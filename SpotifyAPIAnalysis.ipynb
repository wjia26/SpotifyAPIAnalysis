{
 "cells": [
  {
   "cell_type": "markdown",
   "metadata": {},
   "source": [
    "## Spotify API Exploratory Analysis.\n",
    "Credit to [Spotipy Package](https://spotipy.readthedocs.io/en/latest/) for making this Analysis a breeze.\n",
    "\n",
    "Aim of this notebook is to:\n",
    "1. Get a feel for the Spotify API and it's structure. \n",
    "2. Do some exploratory analysis of my Top Tracks.\n",
    "3. Visualize the data. [Spotify API Analysis on Tableau](https://public.tableau.com/profile/william8331#!/vizhome/SpotifyMyTracks/TopTracks?publish=yes) \n",
    "4. Get some ideas for a potential App that could be built.\n",
    "\n"
   ]
  },
  {
   "cell_type": "markdown",
   "metadata": {},
   "source": [
    "## Section 1: Authenticating and getting Users Top Tracks "
   ]
  },
  {
   "cell_type": "markdown",
   "metadata": {},
   "source": [
    "The API wrappers we'll be using from spotipy are as follows. Please read the API docs here to get an understanding of\n",
    "the payload [here](https://developer.spotify.com/documentation/web-api/reference/personalization/get-users-top-artists-and-tracks/):\n",
    "1. spotify.current_user_top_tracks: To get users Top 50 Tracks.\n",
    "2. spotify.tracks: To get information around the Top 50 tracks\n",
    "3. spotify.artists: Information around artist and genre.\n",
    "4. spotify.audio_features: Audio Features for each Track."
   ]
  },
  {
   "cell_type": "code",
   "execution_count": null,
   "metadata": {},
   "outputs": [],
   "source": [
    "#Dependencies\n",
    "import spotipy\n",
    "import spotipy.util as util\n",
    "from IPython.display import JSON\n",
    "import pandas as pd\n",
    "import os\n",
    "import json\n",
    "import ast\n",
    "from pandas.io.json import json_normalize\n",
    "from IPython.core.interactiveshell import InteractiveShell\n",
    "InteractiveShell.ast_node_interactivity = \"all\""
   ]
  },
  {
   "cell_type": "code",
   "execution_count": null,
   "metadata": {},
   "outputs": [],
   "source": [
    "#If you want to use pre-cached results\n",
    "df_tracks=pd.read_csv(results_dir+'SpotifyMyTracks.csv')"
   ]
  },
  {
   "cell_type": "code",
   "execution_count": null,
   "metadata": {},
   "outputs": [],
   "source": [
    "#Client ID/Secret stored in the environment variables. \n",
    "#Don't want some random to start fiddling with your Spotify account!\n",
    "CLIENT_ID=os.getenv('sp_client_id')\n",
    "CLIENT_SECRET=os.getenv('sp_client_secret')\n",
    "results_dir='results/'"
   ]
  },
  {
   "cell_type": "code",
   "execution_count": null,
   "metadata": {},
   "outputs": [],
   "source": [
    "#Authorize the user via getting a token and returning a spotify object to be used for querying the API. \n",
    "#Token Lasts for about an hour or so. Scopes need to be defined to grant your app access to various endpoints.\n",
    "def sp_authorize():\n",
    "    scope = 'user-library-read user-top-read user-read-playback-state user-read-recently-played'\n",
    "    username='wjia26'\n",
    "    token = util.prompt_for_user_token(username,scope,\n",
    "                               client_id=CLIENT_ID,\n",
    "                               client_secret=CLIENT_SECRET,\n",
    "                               redirect_uri='https://google.com')\n",
    "    spotify = spotipy.Spotify(auth=token)\n",
    "    return spotify"
   ]
  },
  {
   "cell_type": "code",
   "execution_count": null,
   "metadata": {},
   "outputs": [],
   "source": [
    "#Maps integer key's to human readeable key's.\n",
    "def int_to_key(key_int):\n",
    "    key_list = [\"C\", \"C#\", \"D\", \"D#\", \"E\", \"F\", \"F#\", \"G\", \"G#\", \"A\", \"A#\", \"B\"]\n",
    "    return key_list[int(key_int)]"
   ]
  },
  {
   "cell_type": "code",
   "execution_count": null,
   "metadata": {},
   "outputs": [],
   "source": [
    "#Removes prefixes from field's \n",
    "def get_unprefixed_keys(tracks_dict,prefix=''):\n",
    "    keys=[key.replace(prefix,'') for key, value in tracks_dict.items() if prefix in key.lower()]\n",
    "    return keys"
   ]
  },
  {
   "cell_type": "code",
   "execution_count": null,
   "metadata": {},
   "outputs": [],
   "source": [
    "'''\n",
    "Takes in a time_range short_term/medium_term/long_term and returns a dataframe with the top 50 tracks for that time range.\n",
    "\n",
    "In hindsight I probably could've used pandas.io.json.json_normalize to do this with less code.\n",
    "The Methodology I've gone with is to store each value in a giant dictionary and convert the end populated dict into a dataframe.\n",
    "\n",
    "I first hit the spotify.current_user_top_tracks API to grab all the track id's. Then I use the other three to gather more data\n",
    "that specific track.\n",
    "\n",
    "I've prefixed each field with \n",
    "which API I've hit to get it from:\n",
    "1. track_ is from the spotify.tracks API\n",
    "2. artist_ is from spotify.artists API \n",
    "3. ft_ is from the spotify.audio_features API\n",
    "'''\n",
    "def top_tracks_to_df(time_range='short_term'):\n",
    "    spotify=sp_authorize()\n",
    "    # list of track fields\n",
    "    tracks_dict={\n",
    "            'rank': [],\n",
    "            \"time_range\":[],\n",
    "            'track_id':[],    \n",
    "            'track_name':[],\n",
    "             'track_popularity':[],\n",
    "             'track_release_date':[],\n",
    "             'artist_genre':[],\n",
    "             'artist_name':[],\n",
    "            \"ft_danceability\": [],\n",
    "            \"ft_energy\": [],\n",
    "            \"ft_key\": [],\n",
    "            \"ft_loudness\": [],\n",
    "            \"ft_mode\": [],\n",
    "            \"ft_speechiness\": [],\n",
    "            \"ft_acousticness\": [],\n",
    "            \"ft_instrumentalness\": [],\n",
    "            \"ft_liveness\": [],\n",
    "            \"ft_valence\": [],\n",
    "            \"ft_tempo\": []\n",
    "            }\n",
    "    #Print Top Tracks with the individual track data for the user.\n",
    "    track_ids=[]\n",
    "    top_tracks_data = spotify.current_user_top_tracks(limit=50, offset=0,\n",
    "                                              time_range=time_range)\n",
    "\n",
    "    for item in top_tracks_data['items']:\n",
    "        track_ids.append(item['id'])\n",
    "\n",
    "    while top_tracks_data['next']:\n",
    "        top_tracks_data = spotify.next(top_tracks_data)\n",
    "        for item in top_tracks_data['items']:\n",
    "            track_ids.append(item['id'])\n",
    "\n",
    "    #tracks data payload json\n",
    "    album_ids=[]\n",
    "    artist_ids=[]\n",
    "\n",
    "    track_data=spotify.tracks(track_ids)\n",
    "    rank=0\n",
    "    \n",
    "    for track in track_data['tracks']:\n",
    "        rank=rank+1\n",
    "        album_ids.append(track['album']['id'])  \n",
    "        artist_ids.append(track['artists'][0]['id']) \n",
    "        #Just grab the first artist to get genre\n",
    "        tracks_dict['rank'].append(rank)\n",
    "        tracks_dict['track_id'].append(track['id'])    \n",
    "        tracks_dict['track_name'].append(track['name'])\n",
    "        tracks_dict['track_popularity'].append(track['popularity'])\n",
    "        tracks_dict['track_release_date'].append(track['album']['release_date'])\n",
    "        tracks_dict['time_range'].append(time_range)\n",
    "\n",
    "    #get genres for each track through the artists\n",
    "    artists_data=spotify.artists(artist_ids)\n",
    "    for artist in artists_data['artists']:\n",
    "        tracks_dict['artist_genre'].append(artist['genres'])\n",
    "        tracks_dict['artist_name'].append(artist['name'])\n",
    "\n",
    "    #get Audio features for each track\n",
    "    features_data=spotify.audio_features(track_ids)\n",
    "    for features in features_data:\n",
    "        keys=get_unprefixed_keys(tracks_dict,prefix='ft_')\n",
    "        for key in keys:\n",
    "            tracks_dict['ft_'+key].append(features[key])  \n",
    "\n",
    "    df = pd.DataFrame(tracks_dict)   \n",
    "    \n",
    "    return df"
   ]
  },
  {
   "cell_type": "code",
   "execution_count": null,
   "metadata": {},
   "outputs": [],
   "source": [
    "#Concatenate as one dataframe\n",
    "df1=top_tracks_to_df('short_term')\n",
    "df2=top_tracks_to_df('medium_term')\n",
    "df3=top_tracks_to_df('long_term')\n",
    "df_tracks=pd.concat([df1,df2,df3])\n",
    "#Convert all integer key signatures to human-readable key signatures.\n",
    "df_tracks['key_note']=df_tracks['ft_key'].apply(int_to_key)"
   ]
  },
  {
   "cell_type": "code",
   "execution_count": null,
   "metadata": {},
   "outputs": [],
   "source": [
    "#For every track there are list of genre's. This unnests the genre's so there is one genre for each row. \n",
    "#Track id's do get duplicated but we can handle that on Tableau side. This is mainly so we can display at the genre level.\n",
    "genre_dict={\n",
    "            'rank': [],\n",
    "            \"time_range\":[],\n",
    "            'track_id':[],    \n",
    "            'track_name':[],\n",
    "             'track_popularity':[],\n",
    "             'track_release_date':[],\n",
    "             'artist_genre':[],\n",
    "             'artist_name':[],\n",
    "            'key_note': [],\n",
    "            \"ft_danceability\": [],\n",
    "            \"ft_energy\": [],\n",
    "            \"ft_key\": [],\n",
    "            \"ft_loudness\": [],\n",
    "            \"ft_mode\": [],\n",
    "            \"ft_speechiness\": [],\n",
    "            \"ft_acousticness\": [],\n",
    "            \"ft_instrumentalness\": [],\n",
    "            \"ft_liveness\": [],\n",
    "            \"ft_valence\": [],\n",
    "            \"ft_tempo\": [],\n",
    "             'artist_name':[],\n",
    "            \"number_of_repeats\": []\n",
    "            }\n",
    "\n",
    "for index,track in df_tracks.iterrows():\n",
    "    genre_list=ast.literal_eval(track['artist_genre'])\n",
    "    for genre in genre_list:\n",
    "        genre_dict['rank'].append(track['rank'])\n",
    "        genre_dict[\"time_range\"].append(track[\"time_range\"])\n",
    "        genre_dict['track_id'].append(track['track_id'])    \n",
    "        genre_dict['track_name'].append(track['track_name'])\n",
    "        genre_dict['track_popularity'].append(track['track_popularity'])\n",
    "        genre_dict['track_release_date'].append(track['track_release_date'])\n",
    "        genre_dict['artist_name'].append(track['artist_name'])\n",
    "        genre_dict[\"ft_danceability\"].append(track[\"ft_danceability\"])\n",
    "        genre_dict[\"ft_energy\"].append(track[\"ft_energy\"])\n",
    "        genre_dict[\"ft_key\"].append(track[\"ft_key\"])\n",
    "        genre_dict[\"ft_loudness\"].append(track[\"ft_loudness\"])\n",
    "        genre_dict[\"ft_mode\"].append(track[\"ft_mode\"])\n",
    "        genre_dict[\"ft_speechiness\"].append(track[\"ft_speechiness\"])\n",
    "        genre_dict[\"ft_acousticness\"].append(track[\"ft_acousticness\"])\n",
    "        genre_dict[\"ft_instrumentalness\"].append(track[\"ft_instrumentalness\"])\n",
    "        genre_dict[\"ft_liveness\"].append(track[\"ft_liveness\"])\n",
    "        genre_dict[\"ft_valence\"].append(track[\"ft_valence\"])\n",
    "        genre_dict[\"ft_tempo\"].append(track[\"ft_tempo\"])\n",
    "        genre_dict[\"key_note\"].append(track[\"key_note\"])\n",
    "        genre_dict['artist_genre'].append(genre)\n",
    "        genre_dict[\"number_of_repeats\"].append(len(genre_list))\n",
    "    \n",
    "df_genre = pd.DataFrame(genre_dict)   \n"
   ]
  },
  {
   "cell_type": "code",
   "execution_count": null,
   "metadata": {},
   "outputs": [],
   "source": [
    "#Final Output to be used in the Tableau workbook\n",
    "df_genre.to_csv('SpotifyMyTracks.csv')"
   ]
  },
  {
   "cell_type": "markdown",
   "metadata": {},
   "source": [
    "## End of first section"
   ]
  },
  {
   "cell_type": "markdown",
   "metadata": {},
   "source": [
    "## Section 2\n",
    "### Audio Analysis Component (still under construction):\n",
    "Let's look at the nitty-gritty musical analysis for each track. The below isn't visualized in Tableau as I haven't been\n",
    "able to extract any interesting findings from this. The Audio Analysis generally isn't too accurate from my experience in looking at the data.\n",
    "Uses the [Audio Analysis API](https://developer.spotify.com/documentation/web-api/reference/tracks/get-audio-analysis/)"
   ]
  },
  {
   "cell_type": "code",
   "execution_count": null,
   "metadata": {},
   "outputs": [],
   "source": [
    "def section_output_df(track_id,analysis_dict):\n",
    "    spotify=sp_authorize()\n",
    "    #Audio Analysis\n",
    "\n",
    "    analysis_data=spotify.audio_analysis(track_id)\n",
    "    \n",
    "    for section in analysis_data['sections']:\n",
    "        keys=get_unprefixed_keys(analysis_dict,prefix='')\n",
    "        for key in keys:\n",
    "            analysis_dict[key].append(section[key]) \n",
    "   \n",
    "    df1 = pd.DataFrame(analysis_dict)\n",
    "    \n",
    "    df1['track_duration']=analysis_data['track']['duration']\n",
    "    \n",
    "    return df1    "
   ]
  },
  {
   "cell_type": "code",
   "execution_count": null,
   "metadata": {},
   "outputs": [],
   "source": [
    "analysis_dict={\n",
    "                'confidence': [],\n",
    "      'duration': [],\n",
    "      'key': [],\n",
    "      'key_confidence': [],\n",
    "      'loudness': [],\n",
    "      'mode': [],\n",
    "      'mode_confidence': [],\n",
    "      'start': [],\n",
    "      'tempo': [],\n",
    "      'tempo_confidence': [],\n",
    "      'time_signature': [],\n",
    "      'time_signature_confidence': []\n",
    "                }\n",
    "\n",
    "df_analysis = pd.DataFrame(analysis_dict)    \n",
    "\n",
    "#Get all unique tracks. Some might be included in both short term and long term.\n",
    "unique_track_ids=list(df_tracks.track_id.unique())\n",
    "df_unique_tracks=df_tracks.loc[df_tracks['track_id'].isin(unique_track_ids)]\n",
    "\n",
    "for index,track in df_unique_tracks.iterrows():\n",
    "    df2=section_output_df(track['track_id'],analysis_dict)\n",
    "    df2['track_name']=track['track_name']\n",
    "    df2['track_id']=track['track_id']\n",
    "    df2['time_range']=track['time_range']\n",
    "    df_analysis=pd.concat([df_analysis,df2])\n",
    "    print(str(index) + ' DONE!!!!! ' + track['track_name'])\n",
    "\n",
    "#Convert to human-readable key\n",
    "df_analysis['key_note']=df_analysis['key'].apply(int_to_key)"
   ]
  },
  {
   "cell_type": "code",
   "execution_count": null,
   "metadata": {},
   "outputs": [],
   "source": [
    "df_analysis.to_csv('SpotifyMyTracksAnalysis.csv')"
   ]
  },
  {
   "cell_type": "code",
   "execution_count": null,
   "metadata": {},
   "outputs": [],
   "source": [
    "#Exploratory stats about the sections of the music.\n",
    "print('Loudness: ')\n",
    "print(df1['loudness'].describe())\n",
    "print('Tempo: ')\n",
    "print(df1['tempo'].describe())\n",
    "print('Key: ')\n",
    "print(df1['key'].unique())"
   ]
  },
  {
   "cell_type": "code",
   "execution_count": null,
   "metadata": {},
   "outputs": [],
   "source": [
    "segments_dict={\n",
    "      \"start\": [],\n",
    "      \"duration\": [],\n",
    "      \"confidence\": [],\n",
    "      \"loudness_start\": [],\n",
    "      \"loudness_max_time\": [],\n",
    "      \"loudness_max\": [],\n",
    "      \"pitches\": [],\n",
    "      \"timbre\": []\n",
    "            }\n",
    "analysis_data=spotify.audio_analysis(track_1)\n",
    "for segments in analysis_data['segments']:\n",
    "    keys=get_unprefixed_keys(segments_dict,prefix='')\n",
    "    for key in keys:\n",
    "        segments_dict[key].append(segments[key])\n",
    "\n",
    "df2 = pd.DataFrame(segments_dict)\n",
    "    \n",
    "df2   "
   ]
  },
  {
   "cell_type": "markdown",
   "metadata": {},
   "source": [
    "medium_term (approximately last 6 months), short_term (approximately last 4 weeks). Default: medium_term."
   ]
  },
  {
   "cell_type": "code",
   "execution_count": null,
   "metadata": {},
   "outputs": [],
   "source": [
    "for time_range in ('short_term','medium_term','long_term'):\n",
    "    results = spotify.current_user_top_artists(limit=20, offset=0,\n",
    "                                              time_range=time_range)\n",
    "    print('\\n' + time_range + '\\n')\n",
    "    for item in results['items']:\n",
    "        print(item['name'], item['popularity'], item['genres'])\n",
    "    \n",
    "    print(results['total'])"
   ]
  },
  {
   "cell_type": "code",
   "execution_count": null,
   "metadata": {},
   "outputs": [],
   "source": [
    "results = spotify.artist_related_artists(artist_id='0fTav4sBLmYOAzKuJw0grL')\n",
    "for item in results['artists']:\n",
    "    print(item['name'], item['popularity'], item['genres'])"
   ]
  },
  {
   "cell_type": "code",
   "execution_count": null,
   "metadata": {},
   "outputs": [],
   "source": []
  }
 ],
 "metadata": {
  "anaconda-cloud": {},
  "kernelspec": {
   "display_name": "Python 3",
   "language": "python",
   "name": "python3"
  },
  "language_info": {
   "codemirror_mode": {
    "name": "ipython",
    "version": 3
   },
   "file_extension": ".py",
   "mimetype": "text/x-python",
   "name": "python",
   "nbconvert_exporter": "python",
   "pygments_lexer": "ipython3",
   "version": "3.6.3"
  }
 },
 "nbformat": 4,
 "nbformat_minor": 1
}
